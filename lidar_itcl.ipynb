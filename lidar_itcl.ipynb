{
 "cells": [
  {
   "cell_type": "markdown",
   "id": "735abc08",
   "metadata": {},
   "source": [
    "## Clasificación de objetos en vías ferreas utilizando tecnología LIDAR\n",
    "\n",
    "### Para desarrollar un algoritmo que detectase y clasificase las estructuras ferroviarias presentes en la nube de puntos, dada con la tarea, seguiría los siguientes pasos:\n",
    "\n",
    "### 1. Preprocesamiento de datos:\n",
    "#### a.) Limpiar y filtrar los datos para eliminar ruido y puntos irrelevantes (como puntos del suelo).\n",
    "#### b.) Aplicar un filtro de tamaño a la nube de puntos para eliminar elementos muy pequeños que puedan ser ruido o elementos no deseados, como ramas de árboles.\n",
    "\n",
    "### 2. Segmentación del terreno y extracción de características:\n",
    "#### a.) Realizar una segmentación del terreno utilizando técnicas como el algoritmo RANSAC para identificar y separar los elementos estructurales de la vía férrea.\n",
    "#### b.) Extraer características de los segmentos, como tamaño, forma, orientación y distribución espacial.\n",
    "\n",
    "### 3. Clustering y agrupación:\n",
    "### a.) Aplicar técnicas de clustering como k-means, DBSCAN para agrupar puntos similares en función de sus características y ubicaciones espaciales.\n",
    "### b.) Establecer umbrales para determinar si un grupo representa una estructura ferroviaria relevante o no  (como el tamaño mínimo de un poste, por ejemplo).\n",
    "\n",
    "### 4. Clasificación:\n",
    "#### a.) Entrenar un modelo de aprendizaje supervisado, como un árbol de decisión, una red neuronal, un clasificador SVM o un clasificador de Random Forest, utilizando datos etiquetados de estructuras ferroviarias y no ferroviarias.\n",
    "#### b.) Utilizar el modelo entrenado para clasificar los grupos de puntos como diferentes tipos de estructuras ferroviarias (postes, hilos de contacto, brazos de atirantado, etc.) o elementos no deseados (ramas de árboles, paredes, etc).\n",
    "\n",
    "### 5. Validación y ajuste del modelo:\n",
    "#### a.) Validar el rendimiento del modelo utilizando métricas de evaluación como accuracy, F1-score  o matriz de confusión.\n",
    "\n",
    "### 6. Visualización y análisis de resultados:\n",
    "#### a.) Visualizar las clasificaciones y las estructuras detectadas en la nube de puntos para verificar si el algoritmo  ha detectado correctamente los elementos de interés. "
   ]
  },
  {
   "cell_type": "markdown",
   "id": "86630f91",
   "metadata": {},
   "source": [
    "### Para llevar a la propuesta he implementado el siguiente codigo: \n",
    "### Paso 1"
   ]
  },
  {
   "cell_type": "markdown",
   "id": "bb4702ba",
   "metadata": {},
   "source": [
    "#### Importar librerias necesarias"
   ]
  },
  {
   "cell_type": "code",
   "execution_count": 1,
   "id": "98b8201a",
   "metadata": {},
   "outputs": [
    {
     "name": "stdout",
     "output_type": "stream",
     "text": [
      "Jupyter environment detected. Enabling Open3D WebVisualizer.\n",
      "[Open3D INFO] WebRTC GUI backend enabled.\n",
      "[Open3D INFO] WebRTCWindowSystem: HTTP handshake server disabled.\n"
     ]
    },
    {
     "name": "stderr",
     "output_type": "stream",
     "text": [
      "C:\\Users\\Asus\\anaconda3\\envs\\aaaa\\lib\\site-packages\\scipy\\__init__.py:146: UserWarning: A NumPy version >=1.16.5 and <1.23.0 is required for this version of SciPy (detected version 1.24.2\n",
      "  warnings.warn(f\"A NumPy version >={np_minversion} and <{np_maxversion}\"\n"
     ]
    }
   ],
   "source": [
    "import open3d as o3d\n",
    "import pandas as pd\n",
    "import numpy as np\n",
    "from sklearn.cluster import DBSCAN\n",
    "from sklearn.preprocessing import StandardScaler"
   ]
  },
  {
   "cell_type": "markdown",
   "id": "9afff998",
   "metadata": {},
   "source": [
    "#### Cargar datos"
   ]
  },
  {
   "cell_type": "code",
   "execution_count": 41,
   "id": "9fd10c65",
   "metadata": {},
   "outputs": [],
   "source": [
    "data = pd.read_csv('lidar.csv')"
   ]
  },
  {
   "cell_type": "markdown",
   "id": "a88cb03d",
   "metadata": {},
   "source": [
    "#### Convertir el dataframe a una nube de puntos de Open3D"
   ]
  },
  {
   "cell_type": "code",
   "execution_count": 40,
   "id": "eed7d2fa",
   "metadata": {},
   "outputs": [],
   "source": [
    "pcd = o3d.geometry.PointCloud()\n",
    "pcd.points = o3d.utility.Vector3dVector(data[['X', 'Y', 'Z']].values)"
   ]
  },
  {
   "cell_type": "markdown",
   "id": "fbfcd22e",
   "metadata": {},
   "source": [
    "#### Filtrado de datos: eliminar ruido y puntos irrelevantes"
   ]
  },
  {
   "cell_type": "code",
   "execution_count": 44,
   "id": "e72a76b2",
   "metadata": {},
   "outputs": [],
   "source": [
    "pcd_filtered = pcd.voxel_down_sample(voxel_size=0.05)"
   ]
  },
  {
   "cell_type": "markdown",
   "id": "0d036e73",
   "metadata": {},
   "source": [
    "### Paso 2"
   ]
  },
  {
   "cell_type": "markdown",
   "id": "81a282ac",
   "metadata": {},
   "source": [
    "#### Segmentación del terreno y extracción de características: \n",
    "#### Aquí aplicamos un filtro de segmentación del plano usando RANSAC"
   ]
  },
  {
   "cell_type": "code",
   "execution_count": 43,
   "id": "88f34db0",
   "metadata": {},
   "outputs": [],
   "source": [
    "plane_model, inliers = pcd_filtered.segment_plane(distance_threshold=0.1, ransac_n=3, num_iterations=1000)\n",
    "pcd_without_ground = pcd_filtered.select_by_index(inliers, invert=True)"
   ]
  },
  {
   "cell_type": "markdown",
   "id": "285f50c8",
   "metadata": {},
   "source": [
    "#### Extraer características "
   ]
  },
  {
   "cell_type": "code",
   "execution_count": 45,
   "id": "cfb11156",
   "metadata": {},
   "outputs": [],
   "source": [
    "features = np.asarray(pcd_without_ground.points)"
   ]
  },
  {
   "cell_type": "markdown",
   "id": "86c5d441",
   "metadata": {},
   "source": [
    "####  Normalizar la nube de puntos"
   ]
  },
  {
   "cell_type": "code",
   "execution_count": 46,
   "id": "efe93707",
   "metadata": {},
   "outputs": [],
   "source": [
    "scaler = StandardScaler()\n",
    "features_scaled = scaler.fit_transform(features)"
   ]
  },
  {
   "cell_type": "markdown",
   "id": "bad763d5",
   "metadata": {},
   "source": [
    "### Paso 3"
   ]
  },
  {
   "cell_type": "markdown",
   "id": "5911636d",
   "metadata": {},
   "source": [
    "#### Clustering y agrupación"
   ]
  },
  {
   "cell_type": "code",
   "execution_count": 47,
   "id": "6f9c44ae",
   "metadata": {},
   "outputs": [],
   "source": [
    "dbscan = DBSCAN(eps=0.3, min_samples=15)\n",
    "labels = dbscan.fit_predict(features_scaled)"
   ]
  },
  {
   "cell_type": "code",
   "execution_count": 38,
   "id": "183eac43",
   "metadata": {},
   "outputs": [
    {
     "data": {
      "text/plain": [
       "array([-1,  0,  1,  2], dtype=int64)"
      ]
     },
     "execution_count": 38,
     "metadata": {},
     "output_type": "execute_result"
    }
   ],
   "source": [
    "np.unique(labels)"
   ]
  },
  {
   "cell_type": "markdown",
   "id": "97c6823d",
   "metadata": {},
   "source": [
    "#### Asignar colores a las etiquetas"
   ]
  },
  {
   "cell_type": "code",
   "execution_count": 39,
   "id": "f158b5dd",
   "metadata": {},
   "outputs": [
    {
     "name": "stdout",
     "output_type": "stream",
     "text": [
      "[Open3D WARNING] GLFW Error: WGL: Failed to make context current: Controlador no válido. \n",
      "[Open3D WARNING] GLFW Error: WGL: Failed to make context current: La operación de transformación solicitada no es compatible. \n",
      "[Open3D WARNING] GLFW Error: WGL: Failed to make context current: La operación de transformación solicitada no es compatible. \n",
      "[Open3D WARNING] GLFW Error: WGL: Failed to make context current: La operación de transformación solicitada no es compatible. \n"
     ]
    }
   ],
   "source": [
    "max_label = labels.max() + 1\n",
    "label_to_color = {i: np.random.rand(3) for i in range(max_label)}\n",
    "label_to_color[-1] = np.array([0, 0, 0])  "
   ]
  },
  {
   "cell_type": "markdown",
   "id": "a60ed866",
   "metadata": {},
   "source": [
    "#### Visualización de resultados de clustering"
   ]
  },
  {
   "cell_type": "code",
   "execution_count": null,
   "id": "8a223f7a",
   "metadata": {},
   "outputs": [],
   "source": [
    "pcd_without_ground.colors = o3d.utility.Vector3dVector(np.asarray([label_to_color[label] for label in labels]))\n",
    "o3d.visualization.draw_geometries([pcd_without_ground])"
   ]
  },
  {
   "attachments": {
    "lidar1.PNG": {
     "image/png": "[encoded data removed]"
    }
   },
   "cell_type": "markdown",
   "id": "45d0a343",
   "metadata": {},
   "source": [
    "![lidar1.PNG](attachment:lidar1.PNG)"
   ]
  },
  {
   "cell_type": "markdown",
   "id": "ccb8f2ba",
   "metadata": {},
   "source": [
    "#### Creacion de la columna \"label\" "
   ]
  },
  {
   "cell_type": "code",
   "execution_count": 14,
   "id": "db4f8185",
   "metadata": {},
   "outputs": [
    {
     "data": {
      "text/html": [
       "<div>\n",
       "<style scoped>\n",
       "    .dataframe tbody tr th:only-of-type {\n",
       "        vertical-align: middle;\n",
       "    }\n",
       "\n",
       "    .dataframe tbody tr th {\n",
       "        vertical-align: top;\n",
       "    }\n",
       "\n",
       "    .dataframe thead th {\n",
       "        text-align: right;\n",
       "    }\n",
       "</style>\n",
       "<table border=\"1\" class=\"dataframe\">\n",
       "  <thead>\n",
       "    <tr style=\"text-align: right;\">\n",
       "      <th></th>\n",
       "      <th>X</th>\n",
       "      <th>Y</th>\n",
       "      <th>Z</th>\n",
       "      <th>label</th>\n",
       "    </tr>\n",
       "  </thead>\n",
       "  <tbody>\n",
       "    <tr>\n",
       "      <th>0</th>\n",
       "      <td>-3735.955</td>\n",
       "      <td>1192.64</td>\n",
       "      <td>-377980.59375</td>\n",
       "      <td>0</td>\n",
       "    </tr>\n",
       "    <tr>\n",
       "      <th>1</th>\n",
       "      <td>-2059.531</td>\n",
       "      <td>5922.98</td>\n",
       "      <td>-381105.37500</td>\n",
       "      <td>1</td>\n",
       "    </tr>\n",
       "    <tr>\n",
       "      <th>2</th>\n",
       "      <td>-2858.434</td>\n",
       "      <td>207.17</td>\n",
       "      <td>-380974.40625</td>\n",
       "      <td>2</td>\n",
       "    </tr>\n",
       "    <tr>\n",
       "      <th>3</th>\n",
       "      <td>-3153.050</td>\n",
       "      <td>389.79</td>\n",
       "      <td>-378548.06250</td>\n",
       "      <td>3</td>\n",
       "    </tr>\n",
       "    <tr>\n",
       "      <th>4</th>\n",
       "      <td>153.825</td>\n",
       "      <td>5545.67</td>\n",
       "      <td>-377980.59375</td>\n",
       "      <td>-1</td>\n",
       "    </tr>\n",
       "  </tbody>\n",
       "</table>\n",
       "</div>"
      ],
      "text/plain": [
       "          X        Y             Z  label\n",
       "0 -3735.955  1192.64 -377980.59375      0\n",
       "1 -2059.531  5922.98 -381105.37500      1\n",
       "2 -2858.434   207.17 -380974.40625      2\n",
       "3 -3153.050   389.79 -378548.06250      3\n",
       "4   153.825  5545.67 -377980.59375     -1"
      ]
     },
     "execution_count": 14,
     "metadata": {},
     "output_type": "execute_result"
    }
   ],
   "source": [
    "points = np.asarray(pcd_without_ground.points)\n",
    "df = pd.DataFrame(points, columns=['X', 'Y', 'Z'])\n",
    "df['label'] = labels\n",
    "\n",
    "# Mostrar las primeras filas del DataFrame\n",
    "df.head()"
   ]
  },
  {
   "cell_type": "markdown",
   "id": "52598964",
   "metadata": {},
   "source": [
    "### Conclusiones:\n",
    "\n",
    "#### 1. La segmentacion de la nube de puntos ayuda a centrarse en las estructuras y objetos de interés.\n",
    "#### 2. El clustering DBSCAN permite agrupar los puntos en diferentes estructuras y objetos basados en su densidad y proximidad."
   ]
  },
  {
   "cell_type": "markdown",
   "id": "c17d7adb",
   "metadata": {},
   "source": [
    "### Próximos pasos:\n",
    "\n",
    "#### 1. Mejorar la segmentación: Se pueden ajustar los parámetros del algoritmo RANSAC y DBSCAN o probar otros algoritmos de segmentación y clustering.\n",
    "\n",
    "#### 2. Extraer características: Calcular características geométricas y descriptores para cada clúster, como tamaño, orientación, forma, etc., que puedan ayudar en la clasificación de las estructuras.\n",
    "\n",
    "#### 3. Clasificación de estructuras: Entrenar un modelo de aprendizaje supervisado o no supervisado, como Random Forest, SVM, Redes Neuronales o PointNet, utilizando las características extraídas y las etiquetas de las estructuras conocidas. Luego, aplicar el modelo entrenado para clasificar nuevas nubes de puntos.\n",
    "\n",
    "#### 4. Filtrado de ruido y elementos irrelevantes: Desarrollar un enfoque para eliminar objetos no relacionados con la infraestructura ferroviaria, como ramas de árboles y paredes, que puedan generar errores en la clasificación.\n",
    "\n",
    "#### 5. Validación y evaluación: Realizar una validación cruzada y evaluar el rendimiento del modelo de clasificación utilizando métricas como accuracy y F1-score. Si es necesario, ajustar el modelo y los parámetros para mejorar el rendimiento.\n",
    "\n",
    "#### 6. Visualización y análisis de resultados: Utilizar herramientas de visualización y análisis para examinar y validar los resultados de clasificación de las estructuras ferroviarias en 3D."
   ]
  }
 ],
 "metadata": {
  "kernelspec": {
   "display_name": "Python 3 (ipykernel)",
   "language": "python",
   "name": "python3"
  },
  "language_info": {
   "codemirror_mode": {
    "name": "ipython",
    "version": 3
   },
   "file_extension": ".py",
   "mimetype": "text/x-python",
   "name": "python",
   "nbconvert_exporter": "python",
   "pygments_lexer": "ipython3",
   "version": "3.9.13"
  }
 },
 "nbformat": 4,
 "nbformat_minor": 5
}
