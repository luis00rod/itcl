{
 "cells": [
  {
   "cell_type": "markdown",
   "id": "58085151",
   "metadata": {},
   "source": [
    "### Para desarrollar un algoritmo que detecte y clasifique las estructuras ferroviarias presentes en la nube de puntos, seguiría los siguientes pasos:\n",
    "\n",
    "### 1. Preprocesamiento de datos:\n",
    "### a.) Limpiar y filtrar los datos para eliminar ruido y puntos irrelevantes (como puntos del suelo).\n",
    "### b.) Aplicar un filtro de tamaño a la nube de puntos para eliminar elementos muy pequeños que puedan ser ruido o elementos no deseados, como ramas de árboles.\n",
    "\n",
    "### 2. Segmentación del terreno y extracción de características:\n",
    "### a.) Realizar una segmentación del terreno utilizando técnicas como el algoritmo RANSAC para identificar y separar los elementos estructurales de la vía férrea.\n",
    "### b.) Extraer características de los segmentos, como tamaño, forma, orientación y distribución espacial.\n",
    "\n",
    "### 3. Clustering y agrupación:\n",
    "### a.) Aplicar técnicas de clustering como k-means, DBSCAN para agrupar puntos similares en función de sus características y ubicaciones espaciales.\n",
    "### b.) Establecer umbrales para determinar si un grupo representa una estructura ferroviaria relevante o no  (como el tamaño mínimo de un poste, por ejemplo).\n",
    "\n",
    "### 4. Clasificación:\n",
    "### a.) Entrenar un modelo de aprendizaje supervisado, como un árbol de decisión, una red neuronal, un clasificador SVM o un clasificador de Random Forest, utilizando datos etiquetados de estructuras ferroviarias y no ferroviarias.\n",
    "### b.) Utilizar el modelo entrenado para clasificar los grupos de puntos como diferentes tipos de estructuras ferroviarias (postes, hilos de contacto, brazos de atirantado, etc.) o elementos no deseados (ramas de árboles, paredes, etc).\n",
    "\n",
    "### 5. Validación y ajuste del modelo:\n",
    "### a.) Validar el rendimiento del modelo utilizando métricas de evaluación como accuracy, F1-score  o matriz de confusión.\n",
    "\n",
    "### 6. Visualización y análisis de resultados:\n",
    "### a.) Visualizar las clasificaciones y las estructuras detectadas en la nube de puntos para verificar si el algoritmo  ha detectado correctamente los elementos de interés. \n"
   ]
  },
  {
   "cell_type": "code",
   "execution_count": 1,
   "id": "ec73dbf8",
   "metadata": {},
   "outputs": [
    {
     "name": "stdout",
     "output_type": "stream",
     "text": [
      "Jupyter environment detected. Enabling Open3D WebVisualizer.\n",
      "[Open3D INFO] WebRTC GUI backend enabled.\n",
      "[Open3D INFO] WebRTCWindowSystem: HTTP handshake server disabled.\n"
     ]
    },
    {
     "name": "stderr",
     "output_type": "stream",
     "text": [
      "C:\\Users\\Asus\\anaconda3\\envs\\aaaa\\lib\\site-packages\\scipy\\__init__.py:146: UserWarning: A NumPy version >=1.16.5 and <1.23.0 is required for this version of SciPy (detected version 1.24.2\n",
      "  warnings.warn(f\"A NumPy version >={np_minversion} and <{np_maxversion}\"\n"
     ]
    }
   ],
   "source": [
    "import open3d as o3d\n",
    "import pandas as pd\n",
    "import numpy as np\n",
    "from sklearn.cluster import DBSCAN\n",
    "from sklearn.preprocessing import StandardScaler"
   ]
  },
  {
   "cell_type": "code",
   "execution_count": 2,
   "id": "9fd10c65",
   "metadata": {},
   "outputs": [],
   "source": [
    "# Cargar datos (reemplazar con la ruta de tu archivo CSV)\n",
    "data = pd.read_csv('lidar.csv')\n",
    "\n",
    "# Convertir el dataframe a una nube de puntos de Open3D\n",
    "pcd = o3d.geometry.PointCloud()\n",
    "pcd.points = o3d.utility.Vector3dVector(data[['X', 'Y', 'Z']].values)"
   ]
  },
  {
   "cell_type": "code",
   "execution_count": 3,
   "id": "e72a76b2",
   "metadata": {},
   "outputs": [],
   "source": [
    "# Filtrado de datos: eliminar ruido y puntos irrelevantes\n",
    "pcd_filtered = pcd.voxel_down_sample(voxel_size=0.05)\n",
    "\n",
    "# Segmentación del terreno y extracción de características\n",
    "# Aquí aplicamos un filtro de segmentación del plano usando RANSAC\n",
    "plane_model, inliers = pcd_filtered.segment_plane(distance_threshold=0.1, ransac_n=3, num_iterations=1000)\n",
    "pcd_without_ground = pcd_filtered.select_by_index(inliers, invert=True)"
   ]
  },
  {
   "cell_type": "code",
   "execution_count": 4,
   "id": "cfb11156",
   "metadata": {},
   "outputs": [],
   "source": [
    "# Extraer características (en este caso solo se utiliza la posición XYZ)\n",
    "features = np.asarray(pcd_without_ground.points)\n",
    "\n",
    "# Normalizar las características para mejorar el rendimiento del clustering\n",
    "scaler = StandardScaler()\n",
    "features_scaled = scaler.fit_transform(features)"
   ]
  },
  {
   "cell_type": "code",
   "execution_count": 5,
   "id": "6f9c44ae",
   "metadata": {},
   "outputs": [],
   "source": [
    "# Clustering y agrupación\n",
    "dbscan = DBSCAN(eps=0.1, min_samples=15)\n",
    "labels = dbscan.fit_predict(features_scaled)"
   ]
  },
  {
   "cell_type": "code",
   "execution_count": 6,
   "id": "183eac43",
   "metadata": {},
   "outputs": [
    {
     "data": {
      "text/plain": [
       "array([0, 1, 2, ..., 7, 7, 7], dtype=int64)"
      ]
     },
     "execution_count": 6,
     "metadata": {},
     "output_type": "execute_result"
    }
   ],
   "source": [
    "labels"
   ]
  },
  {
   "cell_type": "code",
   "execution_count": 7,
   "id": "f158b5dd",
   "metadata": {},
   "outputs": [
    {
     "name": "stdout",
     "output_type": "stream",
     "text": [
      "[Open3D WARNING] GLFW Error: WGL: Failed to make context current: Controlador no válido. \n",
      "[Open3D WARNING] GLFW Error: WGL: Failed to make context current: La operación de transformación solicitada no es compatible. \n",
      "[Open3D WARNING] [ViewControl] SetViewPoint() failed because window height and width are not set.\n",
      "[Open3D WARNING] [ViewControl] SetViewPoint() failed because window height and width are not set.\n",
      "[Open3D WARNING] GLFW Error: WGL: Failed to make context current: Controlador no válido. \n",
      "[Open3D WARNING] [ViewControl] SetViewPoint() failed because window height and width are not set.\n",
      "[Open3D WARNING] [ViewControl] SetViewPoint() failed because window height and width are not set.\n",
      "[Open3D WARNING] [ViewControl] SetViewPoint() failed because window height and width are not set.\n",
      "[Open3D WARNING] [ViewControl] SetViewPoint() failed because window height and width are not set.\n",
      "[Open3D WARNING] [ViewControl] SetViewPoint() failed because window height and width are not set.\n",
      "[Open3D WARNING] [ViewControl] SetViewPoint() failed because window height and width are not set.\n",
      "[Open3D WARNING] [ViewControl] SetViewPoint() failed because window height and width are not set.\n"
     ]
    }
   ],
   "source": [
    "# Asignar colores a las etiquetas\n",
    "max_label = labels.max() + 1\n",
    "label_to_color = {i: np.random.rand(3) for i in range(max_label)}\n",
    "label_to_color[-1] = np.array([0, 0, 0])  \n",
    "# Visualización de resultados de clustering\n",
    "pcd_without_ground.colors = o3d.utility.Vector3dVector(np.asarray([label_to_color[label] for label in labels]))\n",
    "o3d.visualization.draw_geometries([pcd_without_ground])\n",
    "\n",
    "# Aquí deberías obtener tus datos etiquetados para entrenar un modelo de aprendizaje supervisado\n",
    "# y aplicar la clasificación como se describió en la respuesta anterior.\n"
   ]
  },
  {
   "cell_type": "code",
   "execution_count": 13,
   "id": "acf1b60b",
   "metadata": {},
   "outputs": [],
   "source": [
    "points = np.asarray(pcd_without_ground.points)"
   ]
  },
  {
   "cell_type": "code",
   "execution_count": 14,
   "id": "db4f8185",
   "metadata": {},
   "outputs": [
    {
     "data": {
      "text/html": [
       "<div>\n",
       "<style scoped>\n",
       "    .dataframe tbody tr th:only-of-type {\n",
       "        vertical-align: middle;\n",
       "    }\n",
       "\n",
       "    .dataframe tbody tr th {\n",
       "        vertical-align: top;\n",
       "    }\n",
       "\n",
       "    .dataframe thead th {\n",
       "        text-align: right;\n",
       "    }\n",
       "</style>\n",
       "<table border=\"1\" class=\"dataframe\">\n",
       "  <thead>\n",
       "    <tr style=\"text-align: right;\">\n",
       "      <th></th>\n",
       "      <th>X</th>\n",
       "      <th>Y</th>\n",
       "      <th>Z</th>\n",
       "      <th>label</th>\n",
       "    </tr>\n",
       "  </thead>\n",
       "  <tbody>\n",
       "    <tr>\n",
       "      <th>0</th>\n",
       "      <td>-3735.955</td>\n",
       "      <td>1192.64</td>\n",
       "      <td>-377980.59375</td>\n",
       "      <td>0</td>\n",
       "    </tr>\n",
       "    <tr>\n",
       "      <th>1</th>\n",
       "      <td>-2059.531</td>\n",
       "      <td>5922.98</td>\n",
       "      <td>-381105.37500</td>\n",
       "      <td>1</td>\n",
       "    </tr>\n",
       "    <tr>\n",
       "      <th>2</th>\n",
       "      <td>-2858.434</td>\n",
       "      <td>207.17</td>\n",
       "      <td>-380974.40625</td>\n",
       "      <td>2</td>\n",
       "    </tr>\n",
       "    <tr>\n",
       "      <th>3</th>\n",
       "      <td>-3153.050</td>\n",
       "      <td>389.79</td>\n",
       "      <td>-378548.06250</td>\n",
       "      <td>3</td>\n",
       "    </tr>\n",
       "    <tr>\n",
       "      <th>4</th>\n",
       "      <td>153.825</td>\n",
       "      <td>5545.67</td>\n",
       "      <td>-377980.59375</td>\n",
       "      <td>-1</td>\n",
       "    </tr>\n",
       "  </tbody>\n",
       "</table>\n",
       "</div>"
      ],
      "text/plain": [
       "          X        Y             Z  label\n",
       "0 -3735.955  1192.64 -377980.59375      0\n",
       "1 -2059.531  5922.98 -381105.37500      1\n",
       "2 -2858.434   207.17 -380974.40625      2\n",
       "3 -3153.050   389.79 -378548.06250      3\n",
       "4   153.825  5545.67 -377980.59375     -1"
      ]
     },
     "execution_count": 14,
     "metadata": {},
     "output_type": "execute_result"
    }
   ],
   "source": [
    "df = pd.DataFrame(points, columns=['X', 'Y', 'Z'])\n",
    "df['label'] = labels\n",
    "\n",
    "# Mostrar las primeras filas del DataFrame\n",
    "df.head()"
   ]
  },
  {
   "cell_type": "code",
   "execution_count": 15,
   "id": "4b0e5677",
   "metadata": {},
   "outputs": [
    {
     "data": {
      "text/plain": [
       "(5528,)"
      ]
     },
     "execution_count": 15,
     "metadata": {},
     "output_type": "execute_result"
    }
   ],
   "source": [
    "labels.shape"
   ]
  },
  {
   "cell_type": "code",
   "execution_count": 17,
   "id": "126853fe",
   "metadata": {},
   "outputs": [
    {
     "data": {
      "text/plain": [
       "(5528, 3)"
      ]
     },
     "execution_count": 17,
     "metadata": {},
     "output_type": "execute_result"
    }
   ],
   "source": [
    "points.shape"
   ]
  },
  {
   "cell_type": "code",
   "execution_count": null,
   "id": "c50573c7",
   "metadata": {},
   "outputs": [],
   "source": []
  }
 ],
 "metadata": {
  "kernelspec": {
   "display_name": "Python 3 (ipykernel)",
   "language": "python",
   "name": "python3"
  },
  "language_info": {
   "codemirror_mode": {
    "name": "ipython",
    "version": 3
   },
   "file_extension": ".py",
   "mimetype": "text/x-python",
   "name": "python",
   "nbconvert_exporter": "python",
   "pygments_lexer": "ipython3",
   "version": "3.9.13"
  }
 },
 "nbformat": 4,
 "nbformat_minor": 5
}
